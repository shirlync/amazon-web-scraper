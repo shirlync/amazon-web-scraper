{
 "cells": [
  {
   "cell_type": "code",
   "execution_count": 62,
   "id": "6a42791f",
   "metadata": {},
   "outputs": [],
   "source": [
    "# import libraries\n",
    "\n",
    "from bs4 import BeautifulSoup\n",
    "import requests\n",
    "import smtplib # sending emails to yourself\n",
    "import time\n",
    "import datetime"
   ]
  },
  {
   "cell_type": "code",
   "execution_count": 90,
   "id": "470bf6b3",
   "metadata": {},
   "outputs": [
    {
     "name": "stdout",
     "output_type": "stream",
     "text": [
      "Funny Got Data MIS Data Systems Business Analyst T-Shirt\n",
      "16.99\n"
     ]
    }
   ],
   "source": [
    "#  To bypass Amazon cookie restrictions\n",
    "\n",
    "import requests\n",
    "from bs4 import BeautifulSoup\n",
    "\n",
    "url = \"https://www.amazon.com/Funny-Data-Systems-Business-Analyst/dp/B07FNW9FGJ/ref=sr_1_2?crid=5HJWF7LBIQNF&keywords=funny%2Bgot%2Bdata%2Bmis%2Bdata%2Bsystems%2Bbusiness%2Banalyst%2Bt-shirt&qid=1683181686&sprefix=funny%2Bgot%2Bdata%2Bmis%2Bdata%2Caps%2C306&sr=8-2&customId=B0752XJYNL&customizationToken=MC_Assembly_1%23B0752XJYNL&th=1\"\n",
    "headers = {\n",
    "    \"User-Agent\": \"Mozilla/5.0 (Windows NT 10.0; Win64; x64) AppleWebKit/537.36 (KHTML, like Gecko) Chrome/88.0.4324.150 Safari/537.36\",\n",
    "    \"cookie\": \"your_cookie_value_here\"\n",
    "}\n",
    "\n",
    "response = requests.get(url, headers=headers)\n",
    "\n",
    "if response.status_code == 200:\n",
    "    soup = BeautifulSoup(response.content, 'html.parser')\n",
    "    product_title = soup.find(id='productTitle').get_text().strip()\n",
    "    if product_title:\n",
    "        print(product_title)\n",
    "    else:\n",
    "        print(\"Product title not found.\")\n",
    "else:\n",
    "    print(f\"Failed to retrieve page. Status code: {response.status_code}\")\n",
    "    \n",
    "if response.status_code == 200:\n",
    "    soup = BeautifulSoup(response.content, 'html.parser')\n",
    "    price = (soup.select('span.a-price-whole')[0].get_text() + soup.select('span.a-price-fraction')[0].get_text())\n",
    "    if price:\n",
    "        print(price.strip())\n",
    "    else:\n",
    "        print(\"Price not found.\")\n",
    "else:\n",
    "    print(f\"Failed to retrieve page. Status code: {response.status_code}\")"
   ]
  },
  {
   "cell_type": "code",
   "execution_count": 84,
   "id": "63c3ebef",
   "metadata": {},
   "outputs": [
    {
     "name": "stdout",
     "output_type": "stream",
     "text": [
      "2023-05-04\n"
     ]
    }
   ],
   "source": [
    "import datetime\n",
    "today = datetime.date.today()\n",
    "print(today)"
   ]
  },
  {
   "cell_type": "code",
   "execution_count": 88,
   "id": "d84c992d",
   "metadata": {},
   "outputs": [],
   "source": [
    "import csv\n",
    "\n",
    "header = ['Product Title', 'Price']\n",
    "data = [product_title, price, today] \n",
    "\n",
    "# creating csv, inserting header and data\n",
    "with open('AmazonScrapeDataset.csv', 'w', newline='', encoding='UTF8') as f:\n",
    "    writer = csv.writer(f)\n",
    "    writer.writerow(header)\n",
    "    writer.writerow(data)"
   ]
  },
  {
   "cell_type": "code",
   "execution_count": 94,
   "id": "c6f8f448",
   "metadata": {},
   "outputs": [
    {
     "name": "stdout",
     "output_type": "stream",
     "text": [
      "                                                    Product Title       Price\n",
      "Funny Got Data MIS Data Systems Business Analys...          16.99  2023-05-04\n",
      "Funny Got Data MIS Data Systems Business Analys...          16.99  2023-05-04\n",
      "Funny Got Data MIS Data Systems Business Analys...          16.99  2023-05-04\n"
     ]
    }
   ],
   "source": [
    "# read the csv file without having to open the csv file\n",
    "\n",
    "import pandas as pd\n",
    "\n",
    "df = pd.read_csv(r'C:\\Users\\shirl\\AmazonScrapeDataset.csv')\n",
    "print(df)"
   ]
  },
  {
   "cell_type": "code",
   "execution_count": 93,
   "id": "696bea78",
   "metadata": {},
   "outputs": [],
   "source": [
    "# append data to the csv\n",
    "\n",
    "with open('AmazonScrapeDataset.csv', 'a+', newline='', encoding='UTF8') as f:\n",
    "    writer = csv.writer(f)\n",
    "    writer.writerow(data)"
   ]
  },
  {
   "cell_type": "code",
   "execution_count": 101,
   "id": "e9e1b9b8",
   "metadata": {},
   "outputs": [],
   "source": [
    "def check_price():\n",
    "    \n",
    "    import requests\n",
    "    from bs4 import BeautifulSoup\n",
    "    \n",
    "    url = \"https://www.amazon.com/Funny-Data-Systems-Business-Analyst/dp/B07FNW9FGJ/ref=sr_1_2?crid=5HJWF7LBIQNF&keywords=funny%2Bgot%2Bdata%2Bmis%2Bdata%2Bsystems%2Bbusiness%2Banalyst%2Bt-shirt&qid=1683181686&sprefix=funny%2Bgot%2Bdata%2Bmis%2Bdata%2Caps%2C306&sr=8-2&customId=B0752XJYNL&customizationToken=MC_Assembly_1%23B0752XJYNL&th=1\"\n",
    "    headers = {\n",
    "    \"User-Agent\": \"Mozilla/5.0 (Windows NT 10.0; Win64; x64) AppleWebKit/537.36 (KHTML, like Gecko) Chrome/88.0.4324.150 Safari/537.36\",\n",
    "    \"cookie\": \"your_cookie_value_here\"\n",
    "    }\n",
    "\n",
    "    response = requests.get(url, headers=headers)\n",
    "\n",
    "    if response.status_code == 200:\n",
    "        soup = BeautifulSoup(response.content, 'html.parser')\n",
    "        product_title = soup.find(id='productTitle').get_text().strip()\n",
    "#         if product_title:\n",
    "#             print(product_title)\n",
    "#         else:\n",
    "#             print(\"Product title not found.\")\n",
    "    else:\n",
    "        print(f\"Failed to retrieve page. Status code: {response.status_code}\")\n",
    "    \n",
    "    if response.status_code == 200:\n",
    "        soup = BeautifulSoup(response.content, 'html.parser')\n",
    "        price = (soup.select('span.a-price-whole')[0].get_text() + soup.select('span.a-price-fraction')[0].get_text())\n",
    "#         if price:\n",
    "#             print(price.strip())\n",
    "#         else:\n",
    "#             print(\"Price not found.\")\n",
    "    else:\n",
    "        print(f\"Failed to retrieve page. Status code: {response.status_code}\")\n",
    "\n",
    "    # date and time I scrape the data\n",
    "    import datetime\n",
    "    today = datetime.date.today()\n",
    "#     print(today)\n",
    "\n",
    "    # creates CSV file to contain the data\n",
    "    import csv\n",
    "    header = ['Product Title', 'Price']\n",
    "    data = [product_title, price, today] \n",
    "\n",
    "    # append data to the existing csv file created\n",
    "    with open('AmazonScrapeDataset.csv', 'a+', newline='', encoding='UTF8') as f:\n",
    "        writer = csv.writer(f)\n",
    "        writer.writerow(data)"
   ]
  },
  {
   "cell_type": "code",
   "execution_count": 102,
   "id": "464723c4",
   "metadata": {},
   "outputs": [
    {
     "ename": "KeyboardInterrupt",
     "evalue": "",
     "output_type": "error",
     "traceback": [
      "\u001b[1;31m---------------------------------------------------------------------------\u001b[0m",
      "\u001b[1;31mKeyboardInterrupt\u001b[0m                         Traceback (most recent call last)",
      "Cell \u001b[1;32mIn[102], line 3\u001b[0m\n\u001b[0;32m      1\u001b[0m \u001b[38;5;28;01mwhile\u001b[39;00m \u001b[38;5;28;01mTrue\u001b[39;00m: \n\u001b[0;32m      2\u001b[0m     check_price()\n\u001b[1;32m----> 3\u001b[0m     \u001b[43mtime\u001b[49m\u001b[38;5;241;43m.\u001b[39;49m\u001b[43msleep\u001b[49m\u001b[43m(\u001b[49m\u001b[38;5;241;43m5\u001b[39;49m\u001b[43m)\u001b[49m\n",
      "\u001b[1;31mKeyboardInterrupt\u001b[0m: "
     ]
    }
   ],
   "source": [
    "while True: \n",
    "    check_price()\n",
    "    time.sleep(5)"
   ]
  },
  {
   "cell_type": "code",
   "execution_count": 103,
   "id": "972326a6",
   "metadata": {},
   "outputs": [
    {
     "name": "stdout",
     "output_type": "stream",
     "text": [
      "                                                    Product Title       Price\n",
      "Funny Got Data MIS Data Systems Business Analys...          16.99  2023-05-04\n",
      "Funny Got Data MIS Data Systems Business Analys...          16.99  2023-05-04\n",
      "Funny Got Data MIS Data Systems Business Analys...          16.99  2023-05-04\n",
      "Funny Got Data MIS Data Systems Business Analys...          16.99  2023-05-04\n",
      "Funny Got Data MIS Data Systems Business Analys...          16.99  2023-05-04\n",
      "Funny Got Data MIS Data Systems Business Analys...          16.99  2023-05-04\n",
      "Funny Got Data MIS Data Systems Business Analys...          16.99  2023-05-04\n",
      "Funny Got Data MIS Data Systems Business Analys...          16.99  2023-05-04\n"
     ]
    }
   ],
   "source": [
    "import pandas as pd\n",
    "\n",
    "df = pd.read_csv(r'C:\\Users\\shirl\\AmazonScrapeDataset.csv')\n",
    "print(df)"
   ]
  },
  {
   "cell_type": "code",
   "execution_count": null,
   "id": "60fff7a0",
   "metadata": {},
   "outputs": [],
   "source": []
  },
  {
   "cell_type": "code",
   "execution_count": null,
   "id": "6ec4e0d2",
   "metadata": {},
   "outputs": [],
   "source": []
  }
 ],
 "metadata": {
  "kernelspec": {
   "display_name": "Python 3 (ipykernel)",
   "language": "python",
   "name": "python3"
  },
  "language_info": {
   "codemirror_mode": {
    "name": "ipython",
    "version": 3
   },
   "file_extension": ".py",
   "mimetype": "text/x-python",
   "name": "python",
   "nbconvert_exporter": "python",
   "pygments_lexer": "ipython3",
   "version": "3.10.9"
  }
 },
 "nbformat": 4,
 "nbformat_minor": 5
}
